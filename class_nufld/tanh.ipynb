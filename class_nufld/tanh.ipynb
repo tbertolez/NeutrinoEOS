{
 "cells": [
  {
   "cell_type": "code",
   "execution_count": 3,
   "metadata": {},
   "outputs": [
    {
     "name": "stderr",
     "output_type": "stream",
     "text": [
      "/usr/lib/python3/dist-packages/scipy/__init__.py:146: UserWarning: A NumPy version >=1.17.3 and <1.25.0 is required for this version of SciPy (detected version 1.26.2\n",
      "  warnings.warn(f\"A NumPy version >={np_minversion} and <{np_maxversion}\"\n"
     ]
    }
   ],
   "source": [
    "import numpy as np\n",
    "import matplotlib.pyplot as plt\n",
    "import MyFunctions as funs\n",
    "from scipy.optimize import curve_fit"
   ]
  },
  {
   "cell_type": "markdown",
   "metadata": {},
   "source": [
    "# $\\tanh$ function\n",
    "\n",
    "First of all, we define a $\\tanh$ equation of state, imposing $w(a\\to 0) = -1/3$ and $w(a\\to\\infty) = 0$. We get the following:"
   ]
  },
  {
   "cell_type": "code",
   "execution_count": 2,
   "metadata": {},
   "outputs": [],
   "source": [
    "def w_toni(a,k,a_0):\n",
    "    return 1./6. - 1./6.*np.tanh(k*np.log(a/a_0))"
   ]
  },
  {
   "cell_type": "markdown",
   "metadata": {},
   "source": [
    "## Parameters\n",
    "\n",
    "This function depends on two parameters:\n",
    "- $a_0$ sets the scale factor at which the UR to NR transition happens.\n",
    "- $k$ sets the slope of the transition.\n",
    "\n",
    "There are some heuristic reasonable values for both parameters, but we also provide a function for fitting the parameters to best fit a certain mass."
   ]
  },
  {
   "cell_type": "code",
   "execution_count": 37,
   "metadata": {},
   "outputs": [
    {
     "name": "stdout",
     "output_type": "stream",
     "text": [
      "# MASS = 0.100 eV #\n",
      "-------------------\n",
      "heuristic a_0 = 5.263e-03,\n",
      "best-fit  a_0 = 5.315e-03,\n",
      "best-fit  k   = 0.9089\n"
     ]
    }
   ],
   "source": [
    "# Heuristic ansatz for the scale factor and the slope, for a given mass\n",
    "def m_to_a0(m_eV):\n",
    "    z = 1890*m_eV\n",
    "    return 1/(1+z)\n",
    "\n",
    "def m_to_k0():\n",
    "    return 0.90885\n",
    "\n",
    "# Fitting functions for data\n",
    "# First of all, we retrieve the w(a) data for the desired mass\n",
    "bkg_data = funs.class_bkgout_to_df(\"output/default_ncdm_0.3eV_background.dat\", cols = funs.cols_bkg_ncdm)\n",
    "a_data = 1./(1.+bkg_data['z'])\n",
    "w_data = bkg_data['p_ncdm[0]']/bkg_data['rho_ncdm[0]']\n",
    "\n",
    "# Then, we use the fitting function\n",
    "mass = 0.1\n",
    "pars = curve_fit(w_toni,a_data,w_data,\n",
    "                 p0 =  (m_to_a0(mass),m_to_k0()), \n",
    "                 bounds = ((0,0),(np.inf,np.inf)))\n",
    "\n",
    "print(\"# MASS = {3:.3f} eV #\\n-------------------\\nheuristic a_0 = {0:.3e},\\nbest-fit  a_0 = {2:.3e},\\nbest-fit  k   = {1:.4f}\".format(m_to_a0(mass),pars[0][0],pars[0][1],mass))"
   ]
  },
  {
   "cell_type": "markdown",
   "metadata": {},
   "source": [
    "This is a table summary of the best-fit values for $a_0, k$.\n",
    "\n",
    "| Mass (eV) | Heuristic $a_0$ | Bestfit $a_0$ | Bestfit $k$ |\n",
    "| --------- | --------------- | ------------- | ----------- |\n",
    "| 1.0       | 0.0005288       | 0.0005315     | 0.9088      |\n",
    "| 0.33      | 0.001601        | 0.001611      | 0.9089      |\n",
    "| 0.1       | 0.005263        | 0.005315      | 0.9089      |"
   ]
  },
  {
   "cell_type": "markdown",
   "metadata": {},
   "source": [
    "## Defining the integral of w\n",
    "\n",
    "We will need the integral (check!)\n",
    "$$\n",
    "I = a_{\\mathrm{ini}}^{-4}\\exp\\left\\{-3\\int_{a_\\mathrm{ini}}^a \\frac{da}{a}(1+w(a))\\right\\}\n",
    "$$"
   ]
  },
  {
   "cell_type": "code",
   "execution_count": 38,
   "metadata": {},
   "outputs": [],
   "source": [
    "def int_w(a,k,a_0):\n",
    "    # Assuming a_ini  << a_0\n",
    "    def integral(a):\n",
    "        return 7./6.*np.log(a)-np.log(np.cosh(k*np.log(a/a_0)))/6./k\n",
    "    intini = np.sqrt(a_0)/2**(1/(2*k))\n",
    "    return np.exp(-3*(integral(a)))/intini"
   ]
  },
  {
   "cell_type": "markdown",
   "metadata": {},
   "source": [
    "# Sigmoid function"
   ]
  },
  {
   "cell_type": "code",
   "execution_count": 27,
   "metadata": {},
   "outputs": [],
   "source": [
    "def w_sigm(a,k,a0):\n",
    "    return 1./3.*(1.-1./(1.+np.exp(-2*k*np.log(a/a0))))"
   ]
  },
  {
   "cell_type": "code",
   "execution_count": 30,
   "metadata": {},
   "outputs": [
    {
     "name": "stdout",
     "output_type": "stream",
     "text": [
      "# MASS = 1.000 eV #\n",
      "-------------------\n",
      "heuristic a_0 = 5.288e-04,\n",
      "best-fit  a_0 = 5.315e-04,\n",
      "best-fit  k   = 0.9089\n"
     ]
    }
   ],
   "source": [
    "# Heuristic ansatz for the scale factor and the slope, for a given mass\n",
    "def m_to_a0(m_eV):\n",
    "    z = 1890*m_eV\n",
    "    return 1/(1+z)\n",
    "\n",
    "def m_to_k0():\n",
    "    return 0.90885\n",
    "\n",
    "# Fitting functions for data\n",
    "# First of all, we retrieve the w(a) data for the desired mass\n",
    "bkg_data = funs.class_bkgout_to_df(\"output/default_ncdm_3eV_background.dat\", cols = funs.cols_bkg_ncdm)\n",
    "a_data = 1./(1.+bkg_data['z'])\n",
    "w_data = bkg_data['p_ncdm[0]']/bkg_data['rho_ncdm[0]']\n",
    "\n",
    "# Then, we use the fitting function\n",
    "mass = 1\n",
    "pars = curve_fit(w_sigm,a_data,w_data,\n",
    "                 p0 =  (m_to_k0(),m_to_a0(mass)), \n",
    "                 bounds = ((0,0),(np.inf,np.inf)))\n",
    "\n",
    "print(\"# MASS = {3:.3f} eV #\\n-------------------\\nheuristic a_0 = {0:.3e},\\nbest-fit  a_0 = {2:.3e},\\nbest-fit  k   = {1:.4f}\".format(m_to_a0(mass),pars[0][0],pars[0][1],mass))"
   ]
  },
  {
   "cell_type": "code",
   "execution_count": null,
   "metadata": {},
   "outputs": [],
   "source": []
  },
  {
   "cell_type": "code",
   "execution_count": 29,
   "metadata": {},
   "outputs": [
    {
     "data": {
      "text/plain": [
       "[<matplotlib.lines.Line2D at 0x7f8413def2b0>]"
      ]
     },
     "execution_count": 29,
     "metadata": {},
     "output_type": "execute_result"
    },
    {
     "data": {
      "image/png": "[encoded data removed]",
      "text/plain": [
       "<Figure size 432x288 with 1 Axes>"
      ]
     },
     "metadata": {
      "needs_background": "light"
     },
     "output_type": "display_data"
    }
   ],
   "source": [
    "plt.xscale('log')\n",
    "plt.plot(a_data,w_data)\n",
    "plt.plot(a_data,w_sigm(a_data,0.9089,5.315e-3))"
   ]
  },
  {
   "cell_type": "markdown",
   "metadata": {},
   "source": [
    "# sqrt sigmoid function"
   ]
  },
  {
   "cell_type": "code",
   "execution_count": 4,
   "metadata": {},
   "outputs": [],
   "source": [
    "def w_sqrt(a,k,a0):\n",
    "    return 1./6.*(1.-np.log(a/a0)/np.sqrt(k**2+np.log(a/a0)**2))"
   ]
  },
  {
   "cell_type": "code",
   "execution_count": 7,
   "metadata": {},
   "outputs": [
    {
     "name": "stdout",
     "output_type": "stream",
     "text": [
      "# MASS = 0.100 eV #\n",
      "-------------------\n",
      "heuristic a_0 = 5.263e-03,\n",
      "best-fit  a_0 = 5.318e-03,\n",
      "best-fit  k   = 0.9197\n"
     ]
    }
   ],
   "source": [
    "# Heuristic ansatz for the scale factor and the slope, for a given mass\n",
    "def m_to_a0(m_eV):\n",
    "    z = 1890*m_eV\n",
    "    return 1/(1+z)\n",
    "\n",
    "def m_to_k0():\n",
    "    return 0.90885\n",
    "\n",
    "# Fitting functions for data\n",
    "# First of all, we retrieve the w(a) data for the desired mass\n",
    "bkg_data = funs.class_bkgout_to_df(\"output/default_ncdm_0.3eV_background.dat\", cols = funs.cols_bkg_ncdm)\n",
    "a_data = 1./(1.+bkg_data['z'])\n",
    "w_data = bkg_data['p_ncdm[0]']/bkg_data['rho_ncdm[0]']\n",
    "\n",
    "# Then, we use the fitting function\n",
    "mass = 0.1\n",
    "pars = curve_fit(w_sqrt,a_data,w_data,\n",
    "                 p0 =  (m_to_k0(),m_to_a0(mass)), \n",
    "                 bounds = ((0,0),(np.inf,np.inf)))\n",
    "\n",
    "print(\"# MASS = {3:.3f} eV #\\n-------------------\\nheuristic a_0 = {0:.3e},\\nbest-fit  a_0 = {2:.3e},\\nbest-fit  k   = {1:.4f}\".format(m_to_a0(mass),pars[0][0],pars[0][1],mass))"
   ]
  },
  {
   "cell_type": "code",
   "execution_count": null,
   "metadata": {},
   "outputs": [],
   "source": []
  }
 ],
 "metadata": {
  "kernelspec": {
   "display_name": "Python 3",
   "language": "python",
   "name": "python3"
  },
  "language_info": {
   "codemirror_mode": {
    "name": "ipython",
    "version": 3
   },
   "file_extension": ".py",
   "mimetype": "text/x-python",
   "name": "python",
   "nbconvert_exporter": "python",
   "pygments_lexer": "ipython3",
   "version": "3.10.12"
  }
 },
 "nbformat": 4,
 "nbformat_minor": 2
}
